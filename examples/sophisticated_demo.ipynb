{
 "cells": [
  {
   "cell_type": "markdown",
   "metadata": {},
   "source": [
    "# Sophisticated inference\n",
    "\n",
    "This notebook demonstrates tree searching policies."
   ]
  },
  {
   "cell_type": "code",
   "execution_count": 1,
   "metadata": {},
   "outputs": [],
   "source": [
    "import jax.numpy as jnp\n",
    "from jax import random as jr\n",
    "\n",
    "key = jr.PRNGKey(0)"
   ]
  },
  {
   "cell_type": "code",
   "execution_count": 2,
   "metadata": {},
   "outputs": [],
   "source": [
    "import networkx as nx\n",
    "from pymdp.jax.envs import GraphEnv\n",
    "\n",
    "\n",
    "def generate_connected_clusters(cluster_size=2, connections=2):\n",
    "    edges = []\n",
    "    connecting_node = 0\n",
    "    while connecting_node < connections * cluster_size:\n",
    "        edges += [(connecting_node, a) for a in range(connecting_node + 1, connecting_node + cluster_size + 1)]\n",
    "        connecting_node = len(edges)\n",
    "    graph = nx.Graph()\n",
    "    graph.add_edges_from(edges)\n",
    "    return graph, {\n",
    "        \"locations\": [\n",
    "            (f\"hallway {i}\" if len(list(graph.neighbors(loc))) > 1 else f\"room {i}\")\n",
    "            for i, loc in enumerate(graph.nodes)\n",
    "        ]\n",
    "    }\n",
    "\n",
    "\n",
    "graph, _ = generate_connected_clusters(cluster_size=3, connections=2)\n",
    "env = GraphEnv(graph, object_locations=[3], agent_locations=[0])"
   ]
  },
  {
   "cell_type": "code",
   "execution_count": 3,
   "metadata": {},
   "outputs": [],
   "source": [
    "from pymdp.jax.agent import Agent\n",
    "\n",
    "A = [a.copy() for a in env.params[\"A\"]]\n",
    "B = [b.copy() for b in env.params[\"B\"]]\n",
    "A_dependencies = env.dependencies[\"A\"]\n",
    "B_dependencies = env.dependencies[\"B\"]\n",
    "\n",
    "C = [jnp.zeros(a.shape[:2]) for a in A]\n",
    "C[1] = C[1].at[1].set(1.0)\n",
    "\n",
    "D = [jnp.ones(b.shape[:2]) / b.shape[1] for b in B]\n",
    "\n",
    "agent = Agent(A, B, C, D, None, None, None, A_dependencies=A_dependencies, B_dependencies=B_dependencies, policy_len=1)"
   ]
  },
  {
   "cell_type": "code",
   "execution_count": 4,
   "metadata": {},
   "outputs": [],
   "source": [
    "keys = jr.split(key, 2)\n",
    "key = keys[0]\n",
    "obs, env = env.step(keys[1:])"
   ]
  },
  {
   "cell_type": "code",
   "execution_count": 5,
   "metadata": {},
   "outputs": [
    {
     "name": "stdout",
     "output_type": "stream",
     "text": [
      "[Array([[0]], dtype=int32), Array([[0]], dtype=int32)]\n"
     ]
    }
   ],
   "source": [
    "print(obs)"
   ]
  },
  {
   "cell_type": "code",
   "execution_count": 6,
   "metadata": {},
   "outputs": [],
   "source": [
    "empirical_prior = agent.D\n",
    "\n",
    "qs = agent.infer_states(\n",
    "    observations=obs,\n",
    "    past_actions=None,\n",
    "    empirical_prior=empirical_prior,\n",
    "    qs_hist=None,\n",
    ")"
   ]
  },
  {
   "cell_type": "code",
   "execution_count": 7,
   "metadata": {},
   "outputs": [
    {
     "name": "stdout",
     "output_type": "stream",
     "text": [
      "[Array([[[1.0000000e+00, 1.2888965e-18, 1.2888965e-18, 1.2888965e-18,\n",
      "         1.2888965e-18, 1.2888965e-18, 1.2888965e-18]]], dtype=float32), Array([[[3.1720716e-17, 1.4285715e-01, 1.4285715e-01, 1.4285715e-01,\n",
      "         1.4285715e-01, 1.4285715e-01, 1.4285715e-01, 1.4285715e-01]]],      dtype=float32)]\n"
     ]
    }
   ],
   "source": [
    "print(qs)"
   ]
  },
  {
   "cell_type": "code",
   "execution_count": 8,
   "metadata": {},
   "outputs": [
    {
     "name": "stdout",
     "output_type": "stream",
     "text": [
      "(1, 1, 7)\n"
     ]
    }
   ],
   "source": [
    "print(qs[0].shape)"
   ]
  },
  {
   "cell_type": "code",
   "execution_count": 9,
   "metadata": {},
   "outputs": [
    {
     "ename": "ValueError",
     "evalue": "not enough values to unpack (expected 5, got 3)",
     "output_type": "error",
     "traceback": [
      "\u001b[0;31m---------------------------------------------------------------------------\u001b[0m",
      "\u001b[0;31mValueError\u001b[0m                                Traceback (most recent call last)",
      "\u001b[1;32m/home/tverbele/Code/python/hackaton/pymdp/examples/sophisticated_demo.ipynb Cell 10\u001b[0m line \u001b[0;36m3\n\u001b[1;32m      <a href='vscode-notebook-cell:/home/tverbele/Code/python/hackaton/pymdp/examples/sophisticated_demo.ipynb#X12sZmlsZQ%3D%3D?line=0'>1</a>\u001b[0m \u001b[39mfrom\u001b[39;00m \u001b[39mpymdp\u001b[39;00m\u001b[39m.\u001b[39;00m\u001b[39mjax\u001b[39;00m\u001b[39m.\u001b[39;00m\u001b[39mplanning\u001b[39;00m \u001b[39mimport\u001b[39;00m tree_search\n\u001b[0;32m----> <a href='vscode-notebook-cell:/home/tverbele/Code/python/hackaton/pymdp/examples/sophisticated_demo.ipynb#X12sZmlsZQ%3D%3D?line=2'>3</a>\u001b[0m tree \u001b[39m=\u001b[39m tree_search(agent, qs, \u001b[39m3\u001b[39;49m)\n",
      "File \u001b[0;32m~/Code/python/hackaton/pymdp/pymdp/jax/planning.py:62\u001b[0m, in \u001b[0;36mtree_search\u001b[0;34m(agent, qs, planning_horizon)\u001b[0m\n\u001b[1;32m     59\u001b[0m \u001b[39mwhile\u001b[39;00m h \u001b[39m<\u001b[39m planning_horizon:\n\u001b[1;32m     60\u001b[0m     \u001b[39m# TODO refactor so we can vectorize this\u001b[39;00m\n\u001b[1;32m     61\u001b[0m     \u001b[39mfor\u001b[39;00m node \u001b[39min\u001b[39;00m tree\u001b[39m.\u001b[39mleaves():\n\u001b[0;32m---> 62\u001b[0m         tree \u001b[39m=\u001b[39m expand_node_vanilla(agent, node, tree)\n\u001b[1;32m     64\u001b[0m     h \u001b[39m+\u001b[39m\u001b[39m=\u001b[39m \u001b[39m1\u001b[39m\n\u001b[1;32m     66\u001b[0m \u001b[39mreturn\u001b[39;00m tree\n",
      "File \u001b[0;32m~/Code/python/hackaton/pymdp/pymdp/jax/planning.py:73\u001b[0m, in \u001b[0;36mexpand_node_vanilla\u001b[0;34m(agent, node, tree)\u001b[0m\n\u001b[1;32m     70\u001b[0m qs \u001b[39m=\u001b[39m node[\u001b[39m\"\u001b[39m\u001b[39mqs\u001b[39m\u001b[39m\"\u001b[39m]\n\u001b[1;32m     71\u001b[0m policies \u001b[39m=\u001b[39m agent\u001b[39m.\u001b[39mpolicies\n\u001b[0;32m---> 73\u001b[0m qs_pi, _, _, _, G \u001b[39m=\u001b[39m step(agent, qs, policies)\n\u001b[1;32m     74\u001b[0m q_pi \u001b[39m=\u001b[39m nn\u001b[39m.\u001b[39msoftmax(jnp\u001b[39m.\u001b[39marray(G), axis\u001b[39m=\u001b[39m\u001b[39m0\u001b[39m)\n\u001b[1;32m     76\u001b[0m \u001b[39mfor\u001b[39;00m idx \u001b[39min\u001b[39;00m \u001b[39mrange\u001b[39m(\u001b[39mlen\u001b[39m(policies)):\n",
      "\u001b[0;31mValueError\u001b[0m: not enough values to unpack (expected 5, got 3)"
     ]
    }
   ],
   "source": [
    "from pymdp.jax.planning import tree_search\n",
    "\n",
    "tree = tree_search(agent, qs, 3)"
   ]
  },
  {
   "cell_type": "code",
   "execution_count": 12,
   "metadata": {},
   "outputs": [],
   "source": [
    "import matplotlib.pyplot as plt\n",
    "\n",
    "def plot_plan_tree(\n",
    "    tree,\n",
    "    policy_label=lambda x: \"{:.2f}\".format(x[\"G\"]),\n",
    "    observation_label=lambda x: \"{:.2f}\".format(x[\"G\"]),\n",
    "    font_size=12,\n",
    "    depth=-1,\n",
    "):\n",
    "    # we can pass in a node or the whole tree list object\n",
    "    root_node = tree.root()\n",
    "\n",
    "    # create graph\n",
    "    count = 0\n",
    "    G = nx.Graph()\n",
    "    to_visit = [(root_node, 0)]\n",
    "    labels = {}\n",
    "\n",
    "    G.add_node(count)\n",
    "    count += 1\n",
    "\n",
    "    # visit children\n",
    "    while len(to_visit) > 0:\n",
    "        node, id = to_visit.pop()\n",
    "        for child in node[\"children\"]:\n",
    "            G.add_node(count)\n",
    "            G.add_edge(id, count)\n",
    "            count += 1.0\n",
    "\n",
    "    from networkx.drawing.nx_pydot import graphviz_layout\n",
    "\n",
    "    #pos = graphviz_layout(G, prog=\"dot\")\n",
    "    nx.draw(\n",
    "        G,\n",
    "        with_labels=True,\n",
    "        font_size=font_size,\n",
    "    )"
   ]
  },
  {
   "cell_type": "code",
   "execution_count": 13,
   "metadata": {},
   "outputs": [
    {
     "data": {
      "image/png": "[encoded data removed]",
      "text/plain": [
       "<Figure size 640x480 with 1 Axes>"
      ]
     },
     "metadata": {},
     "output_type": "display_data"
    }
   ],
   "source": [
    "plot_plan_tree(tree)"
   ]
  },
  {
   "cell_type": "code",
   "execution_count": null,
   "metadata": {},
   "outputs": [],
   "source": []
  }
 ],
 "metadata": {
  "kernelspec": {
   "display_name": ".venv",
   "language": "python",
   "name": "python3"
  },
  "language_info": {
   "codemirror_mode": {
    "name": "ipython",
    "version": 3
   },
   "file_extension": ".py",
   "mimetype": "text/x-python",
   "name": "python",
   "nbconvert_exporter": "python",
   "pygments_lexer": "ipython3",
   "version": "3.11.9"
  }
 },
 "nbformat": 4,
 "nbformat_minor": 2
}
