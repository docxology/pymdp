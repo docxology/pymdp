{
 "cells": [
  {
   "cell_type": "markdown",
   "metadata": {},
   "source": [
    "# Sophisticated inference\n",
    "\n",
    "This notebook demonstrates tree searching policies."
   ]
  },
  {
   "cell_type": "code",
   "execution_count": 1,
   "metadata": {},
   "outputs": [],
   "source": [
    "import jax.numpy as jnp\n",
    "from jax import random as jr\n",
    "\n",
    "key = jr.PRNGKey(0)"
   ]
  },
  {
   "cell_type": "code",
   "execution_count": 2,
   "metadata": {},
   "outputs": [],
   "source": [
    "import networkx as nx\n",
    "from pymdp.jax.envs import GraphEnv\n",
    "\n",
    "\n",
    "def generate_connected_clusters(cluster_size=2, connections=2):\n",
    "    edges = []\n",
    "    connecting_node = 0\n",
    "    while connecting_node < connections * cluster_size:\n",
    "        edges += [(connecting_node, a) for a in range(connecting_node + 1, connecting_node + cluster_size + 1)]\n",
    "        connecting_node = len(edges)\n",
    "    graph = nx.Graph()\n",
    "    graph.add_edges_from(edges)\n",
    "    return graph, {\n",
    "        \"locations\": [\n",
    "            (f\"hallway {i}\" if len(list(graph.neighbors(loc))) > 1 else f\"room {i}\")\n",
    "            for i, loc in enumerate(graph.nodes)\n",
    "        ]\n",
    "    }\n",
    "\n",
    "\n",
    "graph, _ = generate_connected_clusters(cluster_size=3, connections=2)\n",
    "env = GraphEnv(graph, object_locations=[3], agent_locations=[0])"
   ]
  },
  {
   "cell_type": "code",
   "execution_count": 3,
   "metadata": {},
   "outputs": [],
   "source": [
    "from pymdp.jax.agent import Agent\n",
    "\n",
    "A = [a.copy() for a in env.params[\"A\"]]\n",
    "B = [b.copy() for b in env.params[\"B\"]]\n",
    "A_dependencies = env.dependencies[\"A\"]\n",
    "B_dependencies = env.dependencies[\"B\"]\n",
    "\n",
    "C = [jnp.zeros(a.shape[:2]) for a in A]\n",
    "C[1] = C[1].at[1].set(1.0)\n",
    "\n",
    "D = [jnp.ones(b.shape[:2]) / b.shape[1] for b in B]\n",
    "\n",
    "agent = Agent(A, B, C, D, None, None, None, A_dependencies=A_dependencies, B_dependencies=B_dependencies, policy_len=1)"
   ]
  },
  {
   "cell_type": "code",
   "execution_count": 4,
   "metadata": {},
   "outputs": [],
   "source": [
    "keys = jr.split(key, 2)\n",
    "key = keys[0]\n",
    "obs, env = env.step(keys[1:])"
   ]
  },
  {
   "cell_type": "code",
   "execution_count": 5,
   "metadata": {},
   "outputs": [
    {
     "name": "stdout",
     "output_type": "stream",
     "text": [
      "[Array([[0]], dtype=int32), Array([[0]], dtype=int32)]\n"
     ]
    }
   ],
   "source": [
    "print(obs)"
   ]
  },
  {
   "cell_type": "code",
   "execution_count": 6,
   "metadata": {},
   "outputs": [],
   "source": [
    "empirical_prior = agent.D\n",
    "\n",
    "qs = agent.infer_states(\n",
    "    observations=obs,\n",
    "    past_actions=None,\n",
    "    empirical_prior=empirical_prior,\n",
    "    qs_hist=None,\n",
    ")"
   ]
  },
  {
   "cell_type": "code",
   "execution_count": 7,
   "metadata": {},
   "outputs": [
    {
     "name": "stdout",
     "output_type": "stream",
     "text": [
      "[Array([[[1.0000000e+00, 1.2888965e-18, 1.2888965e-18, 1.2888965e-18,\n",
      "         1.2888965e-18, 1.2888965e-18, 1.2888965e-18]]], dtype=float32), Array([[[3.1720716e-17, 1.4285715e-01, 1.4285715e-01, 1.4285715e-01,\n",
      "         1.4285715e-01, 1.4285715e-01, 1.4285715e-01, 1.4285715e-01]]],      dtype=float32)]\n"
     ]
    }
   ],
   "source": [
    "print(qs)"
   ]
  },
  {
   "cell_type": "code",
   "execution_count": 8,
   "metadata": {},
   "outputs": [
    {
     "name": "stdout",
     "output_type": "stream",
     "text": [
      "(1, 1, 7)\n"
     ]
    }
   ],
   "source": [
    "print(qs[0].shape)"
   ]
  },
  {
   "cell_type": "code",
   "execution_count": 10,
   "metadata": {},
   "outputs": [
    {
     "ename": "ValueError",
     "evalue": "vmap got inconsistent sizes for array axes to be mapped:\n  * most axes (17 of them) had size 1, e.g. axis 0 of argument self.A[0] of type float32[1,7,7];\n  * one axis had size 7: axis 0 of argument qs of type int32[7,1,2]",
     "output_type": "error",
     "traceback": [
      "\u001b[0;31m---------------------------------------------------------------------------\u001b[0m",
      "\u001b[0;31mValueError\u001b[0m                                Traceback (most recent call last)",
      "\u001b[1;32m/home/tverbele/Code/python/hackaton/pymdp/examples/sophisticated_demo.ipynb Cell 10\u001b[0m line \u001b[0;36m3\n\u001b[1;32m      <a href='vscode-notebook-cell:/home/tverbele/Code/python/hackaton/pymdp/examples/sophisticated_demo.ipynb#X35sZmlsZQ%3D%3D?line=0'>1</a>\u001b[0m \u001b[39mfrom\u001b[39;00m \u001b[39mpymdp\u001b[39;00m\u001b[39m.\u001b[39;00m\u001b[39mjax\u001b[39;00m\u001b[39m.\u001b[39;00m\u001b[39mplanning\u001b[39;00m \u001b[39mimport\u001b[39;00m tree_search\n\u001b[0;32m----> <a href='vscode-notebook-cell:/home/tverbele/Code/python/hackaton/pymdp/examples/sophisticated_demo.ipynb#X35sZmlsZQ%3D%3D?line=2'>3</a>\u001b[0m tree_search(agent, qs, \u001b[39m3\u001b[39;49m)\n",
      "File \u001b[0;32m~/Code/python/hackaton/pymdp/pymdp/jax/planning.py:43\u001b[0m, in \u001b[0;36mtree_search\u001b[0;34m(agent, qs, planning_horizon)\u001b[0m\n\u001b[1;32m     39\u001b[0m \u001b[39mwhile\u001b[39;00m h \u001b[39m<\u001b[39m planning_horizon:\n\u001b[1;32m     40\u001b[0m \n\u001b[1;32m     41\u001b[0m     \u001b[39m# TODO refactor so we can vectorize this\u001b[39;00m\n\u001b[1;32m     42\u001b[0m     \u001b[39mfor\u001b[39;00m node \u001b[39min\u001b[39;00m tree\u001b[39m.\u001b[39mleaves():\n\u001b[0;32m---> 43\u001b[0m         tree \u001b[39m=\u001b[39m expand_node(agent, node, tree)\n\u001b[1;32m     45\u001b[0m     h \u001b[39m+\u001b[39m\u001b[39m=\u001b[39m \u001b[39m1\u001b[39m\n",
      "File \u001b[0;32m~/Code/python/hackaton/pymdp/pymdp/jax/planning.py:61\u001b[0m, in \u001b[0;36mexpand_node\u001b[0;34m(agent, node, tree, policy_prune_threshold, policy_prune_topk, observation_prune_threshold, prune_penalty, gamma)\u001b[0m\n\u001b[1;32m     59\u001b[0m qs \u001b[39m=\u001b[39m node[\u001b[39m\"\u001b[39m\u001b[39mqs\u001b[39m\u001b[39m\"\u001b[39m]\n\u001b[1;32m     60\u001b[0m policies \u001b[39m=\u001b[39m agent\u001b[39m.\u001b[39mpolicies\n\u001b[0;32m---> 61\u001b[0m qs_pi \u001b[39m=\u001b[39m agent\u001b[39m.\u001b[39;49mupdate_empirical_prior(qs, policies)\n\u001b[1;32m     62\u001b[0m qo_pi \u001b[39m=\u001b[39m jtu\u001b[39m.\u001b[39mtree_map(\u001b[39mlambda\u001b[39;00m a, q: a \u001b[39m@\u001b[39m q, agent\u001b[39m.\u001b[39mA, qs_next)\n\u001b[1;32m     64\u001b[0m info_gain \u001b[39m=\u001b[39m compute_info_gain(qs_pi, qo_pi, agent\u001b[39m.\u001b[39mA, agent\u001b[39m.\u001b[39mA_dependencies)\n",
      "    \u001b[0;31m[... skipping hidden 3 frame]\u001b[0m\n",
      "File \u001b[0;32m~/Code/python/hackaton/.venv/lib/python3.11/site-packages/jax/_src/api.py:1296\u001b[0m, in \u001b[0;36m_mapped_axis_size\u001b[0;34m(fn, tree, vals, dims, name)\u001b[0m\n\u001b[1;32m   1294\u001b[0m   \u001b[39melse\u001b[39;00m:\n\u001b[1;32m   1295\u001b[0m     msg\u001b[39m.\u001b[39mappend(\u001b[39mf\u001b[39m\u001b[39m\"\u001b[39m\u001b[39m  * some axes (\u001b[39m\u001b[39m{\u001b[39;00mct\u001b[39m}\u001b[39;00m\u001b[39m of them) had size \u001b[39m\u001b[39m{\u001b[39;00msz\u001b[39m}\u001b[39;00m\u001b[39m, e.g. axis \u001b[39m\u001b[39m{\u001b[39;00max\u001b[39m}\u001b[39;00m\u001b[39m of \u001b[39m\u001b[39m{\u001b[39;00mex\u001b[39m}\u001b[39;00m\u001b[39m;\u001b[39m\u001b[39m\\n\u001b[39;00m\u001b[39m\"\u001b[39m)\n\u001b[0;32m-> 1296\u001b[0m \u001b[39mraise\u001b[39;00m \u001b[39mValueError\u001b[39;00m(\u001b[39m'\u001b[39m\u001b[39m'\u001b[39m\u001b[39m.\u001b[39mjoin(msg)[:\u001b[39m-\u001b[39m\u001b[39m2\u001b[39m])\n",
      "\u001b[0;31mValueError\u001b[0m: vmap got inconsistent sizes for array axes to be mapped:\n  * most axes (17 of them) had size 1, e.g. axis 0 of argument self.A[0] of type float32[1,7,7];\n  * one axis had size 7: axis 0 of argument qs of type int32[7,1,2]"
     ]
    }
   ],
   "source": [
    "from pymdp.jax.planning import tree_search\n",
    "\n",
    "tree_search(agent, qs, 3)"
   ]
  },
  {
   "cell_type": "code",
   "execution_count": null,
   "metadata": {},
   "outputs": [],
   "source": []
  }
 ],
 "metadata": {
  "kernelspec": {
   "display_name": ".venv",
   "language": "python",
   "name": "python3"
  },
  "language_info": {
   "codemirror_mode": {
    "name": "ipython",
    "version": 3
   },
   "file_extension": ".py",
   "mimetype": "text/x-python",
   "name": "python",
   "nbconvert_exporter": "python",
   "pygments_lexer": "ipython3",
   "version": "3.11.9"
  }
 },
 "nbformat": 4,
 "nbformat_minor": 2
}
