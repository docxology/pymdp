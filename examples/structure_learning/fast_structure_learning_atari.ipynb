{
 "cells": [
  {
   "cell_type": "code",
   "execution_count": 2,
   "metadata": {},
   "outputs": [
    {
     "name": "stdout",
     "output_type": "stream",
     "text": [
      "The autoreload extension is already loaded. To reload it, use:\n",
      "  %reload_ext autoreload\n"
     ]
    }
   ],
   "source": [
    "%load_ext autoreload\n",
    "%autoreload 2"
   ]
  },
  {
   "cell_type": "code",
   "execution_count": 3,
   "metadata": {},
   "outputs": [],
   "source": [
    "import jax.numpy as jnp\n",
    "import pymdp.jax\n",
    "from fast_structure_learning import *"
   ]
  },
  {
   "cell_type": "code",
   "execution_count": 4,
   "metadata": {},
   "outputs": [],
   "source": [
    "path_to_file = \"frames.npz\"\n",
    "num_frames = 256\n",
    "frames = read_frames_from_npz(path_to_file, num_frames=num_frames)\n",
    "frames = frames[128:, ...]"
   ]
  },
  {
   "cell_type": "code",
   "execution_count": 5,
   "metadata": {},
   "outputs": [
    {
     "data": {
      "text/plain": [
       "(128, 64, 64, 3)"
      ]
     },
     "execution_count": 5,
     "metadata": {},
     "output_type": "execute_result"
    }
   ],
   "source": [
    "frames.shape"
   ]
  },
  {
   "cell_type": "code",
   "execution_count": 6,
   "metadata": {},
   "outputs": [
    {
     "data": {
      "text/plain": [
       "<matplotlib.image.AxesImage at 0x72793b282f10>"
      ]
     },
     "execution_count": 6,
     "metadata": {},
     "output_type": "execute_result"
    },
    {
     "data": {
      "image/png": "[encoded data removed]",
      "text/plain": [
       "<Figure size 640x480 with 1 Axes>"
      ]
     },
     "metadata": {},
     "output_type": "display_data"
    }
   ],
   "source": [
    "plt.imshow(frames[0])"
   ]
  },
  {
   "cell_type": "code",
   "execution_count": 7,
   "metadata": {},
   "outputs": [],
   "source": [
    "(observations, locations_matrix, group_indices, sv_discrete_axis, V_per_patch), patch_indices = map_rgb_2_discrete(frames, tile_diameter=16, n_bins=9)\n",
    "observations = jnp.asarray(observations)"
   ]
  },
  {
   "cell_type": "code",
   "execution_count": 8,
   "metadata": {},
   "outputs": [
    {
     "data": {
      "text/plain": [
       "(131, 64, 9)"
      ]
     },
     "execution_count": 8,
     "metadata": {},
     "output_type": "execute_result"
    }
   ],
   "source": [
    "observations.shape"
   ]
  },
  {
   "cell_type": "code",
   "execution_count": 9,
   "metadata": {},
   "outputs": [
    {
     "name": "stdout",
     "output_type": "stream",
     "text": [
      "Maximum probability state about factor 0 at time 0: 8\n",
      "Maximum probability state about factor 0 at time 1: 8\n",
      "Maximum probability state about factor 0 at time 2: 8\n",
      "Maximum probability state about factor 0 at time 3: 8\n",
      "Maximum probability state about factor 0 at time 4: 8\n",
      "Maximum probability state about factor 0 at time 5: 8\n",
      "Maximum probability state about factor 0 at time 6: 3\n",
      "Maximum probability state about factor 0 at time 7: 1\n",
      "Maximum probability state about factor 0 at time 8: 1\n",
      "Maximum probability state about factor 0 at time 9: 1\n",
      "Maximum probability state about factor 0 at time 10: 1\n",
      "Maximum probability state about factor 0 at time 11: 1\n",
      "Maximum probability state about factor 0 at time 12: 1\n",
      "Maximum probability state about factor 0 at time 13: 1\n",
      "Maximum probability state about factor 0 at time 14: 1\n",
      "Maximum probability state about factor 0 at time 15: 1\n",
      "Maximum probability state about factor 0 at time 16: 1\n",
      "Maximum probability state about factor 0 at time 17: 1\n",
      "Maximum probability state about factor 0 at time 18: 1\n",
      "Maximum probability state about factor 0 at time 19: 1\n",
      "Maximum probability state about factor 0 at time 20: 1\n",
      "Maximum probability state about factor 0 at time 21: 1\n",
      "Maximum probability state about factor 0 at time 22: 1\n",
      "Maximum probability state about factor 0 at time 23: 2\n",
      "Maximum probability state about factor 0 at time 24: 4\n",
      "Maximum probability state about factor 0 at time 25: 4\n",
      "Maximum probability state about factor 0 at time 26: 4\n",
      "Maximum probability state about factor 0 at time 27: 4\n",
      "Maximum probability state about factor 0 at time 28: 4\n",
      "Maximum probability state about factor 0 at time 29: 4\n",
      "Maximum probability state about factor 0 at time 30: 4\n",
      "Maximum probability state about factor 0 at time 31: 4\n",
      "Maximum probability state about factor 0 at time 32: 4\n",
      "Maximum probability state about factor 0 at time 33: 4\n",
      "Maximum probability state about factor 0 at time 34: 4\n",
      "Maximum probability state about factor 0 at time 35: 5\n",
      "Maximum probability state about factor 0 at time 36: 7\n",
      "Maximum probability state about factor 0 at time 37: 7\n",
      "Maximum probability state about factor 0 at time 38: 7\n",
      "Maximum probability state about factor 0 at time 39: 7\n",
      "Maximum probability state about factor 0 at time 40: 7\n",
      "Maximum probability state about factor 0 at time 41: 7\n",
      "Maximum probability state about factor 0 at time 42: 7\n",
      "Maximum probability state about factor 0 at time 43: 7\n",
      "Maximum probability state about factor 0 at time 44: 7\n",
      "Maximum probability state about factor 0 at time 45: 7\n",
      "Maximum probability state about factor 0 at time 46: 7\n",
      "Maximum probability state about factor 0 at time 47: 9\n",
      "Maximum probability state about factor 0 at time 48: 10\n",
      "Maximum probability state about factor 0 at time 49: 10\n",
      "Maximum probability state about factor 0 at time 50: 10\n",
      "Maximum probability state about factor 0 at time 51: 10\n",
      "Maximum probability state about factor 0 at time 52: 10\n",
      "Maximum probability state about factor 0 at time 53: 10\n",
      "Maximum probability state about factor 0 at time 54: 10\n",
      "Maximum probability state about factor 0 at time 55: 10\n",
      "Maximum probability state about factor 0 at time 56: 10\n",
      "Maximum probability state about factor 0 at time 57: 10\n",
      "Maximum probability state about factor 0 at time 58: 10\n",
      "Maximum probability state about factor 0 at time 59: 6\n",
      "Maximum probability state about factor 0 at time 60: 0\n",
      "Maximum probability state about factor 0 at time 61: 0\n",
      "Maximum probability state about factor 0 at time 62: 0\n",
      "Maximum probability state about factor 0 at time 63: 0\n",
      "Maximum probability state about factor 0 at time 0: 7\n",
      "Maximum probability state about factor 0 at time 1: 8\n",
      "Maximum probability state about factor 0 at time 2: 6\n",
      "Maximum probability state about factor 0 at time 3: 21\n",
      "Maximum probability state about factor 0 at time 4: 27\n",
      "Maximum probability state about factor 0 at time 5: 29\n",
      "Maximum probability state about factor 0 at time 6: 28\n",
      "Maximum probability state about factor 0 at time 7: 22\n",
      "Maximum probability state about factor 0 at time 8: 24\n",
      "Maximum probability state about factor 0 at time 9: 25\n",
      "Maximum probability state about factor 0 at time 10: 26\n",
      "Maximum probability state about factor 0 at time 11: 23\n",
      "Maximum probability state about factor 0 at time 12: 19\n",
      "Maximum probability state about factor 0 at time 13: 15\n",
      "Maximum probability state about factor 0 at time 14: 18\n",
      "Maximum probability state about factor 0 at time 15: 17\n",
      "Maximum probability state about factor 0 at time 16: 16\n",
      "Maximum probability state about factor 0 at time 17: 20\n",
      "Maximum probability state about factor 0 at time 18: 14\n",
      "Maximum probability state about factor 0 at time 19: 9\n",
      "Maximum probability state about factor 0 at time 20: 10\n",
      "Maximum probability state about factor 0 at time 21: 11\n",
      "Maximum probability state about factor 0 at time 22: 12\n",
      "Maximum probability state about factor 0 at time 23: 13\n",
      "Maximum probability state about factor 0 at time 24: 2\n",
      "Maximum probability state about factor 0 at time 25: 3\n",
      "Maximum probability state about factor 0 at time 26: 0\n",
      "Maximum probability state about factor 0 at time 27: 4\n",
      "Maximum probability state about factor 0 at time 28: 1\n",
      "Maximum probability state about factor 0 at time 29: 5\n",
      "Maximum probability state about factor 0 at time 30: 30\n",
      "Maximum probability state about factor 0 at time 31: 31\n"
     ]
    }
   ],
   "source": [
    "agents, RG, LB = spm_mb_structure_learning(observations, locations_matrix, max_levels=8)"
   ]
  },
  {
   "cell_type": "code",
   "execution_count": 10,
   "metadata": {},
   "outputs": [
    {
     "data": {
      "image/png": "[encoded data removed]",
      "text/plain": [
       "<Figure size 640x480 with 1 Axes>"
      ]
     },
     "metadata": {},
     "output_type": "display_data"
    }
   ],
   "source": [
    "import matplotlib.pyplot as plt\n",
    "\n",
    "plt.imshow(frames[0])\n",
    "colors = ['r', 'b']\n",
    "for (i,locations_matrix) in enumerate(LB):\n",
    "    plt.scatter(locations_matrix[:,0], locations_matrix[:,1], c=colors[i])\n",
    "plt.show()"
   ]
  },
  {
   "cell_type": "code",
   "execution_count": 11,
   "metadata": {},
   "outputs": [],
   "source": [
    "one_hot = jnp.zeros([1, 32])\n",
    "one_hot = one_hot.at[0, 16].set(1.0)\n",
    "D = one_hot"
   ]
  },
  {
   "cell_type": "code",
   "execution_count": 12,
   "metadata": {},
   "outputs": [],
   "source": [
    "from pymdp.jax.control import compute_expected_obs\n",
    "from jax import vmap\n",
    "from functools import partial\n",
    "\n",
    "expected_obs = partial(compute_expected_obs, A_dependencies=agents[-1].A_dependencies)\n",
    "\n",
    "qo = vmap(expected_obs)([D,], agents[-1].A)"
   ]
  },
  {
   "cell_type": "code",
   "execution_count": 13,
   "metadata": {},
   "outputs": [],
   "source": [
    "import jax.tree_util as jtu\n",
    "\n",
    "expected_obs2 = partial(compute_expected_obs, A_dependencies=agents[-2].A_dependencies)\n",
    "\n",
    "# split this in initial state \"D\" and path \"E\"\n",
    "D2 = qo[::2]\n",
    "for i in range(len(agents[-2].B)):\n",
    "    D2[i] = D2[i][:, :agents[-2].B[i].shape[1]]\n",
    "# TODO also transition using this policy matrix?\n",
    "E2 = jtu.tree_map(lambda x: jnp.expand_dims(jnp.argmax(x), [0]), qo[1::2])\n",
    "\n",
    "qs_next, _ = agents[-2].infer_empirical_prior(E2, jtu.tree_map(lambda x : jnp.expand_dims(x, 0), D2))\n",
    "\n",
    "# stack D2 and qs_next and generate qo at once\n",
    "#qo2 = vmap(expected_obs2)(D2, agents[-2].A)\n",
    "#qo2_nxt = vmap(expected_obs2)(qs_next, agents[-2].A)\n",
    "\n",
    "stacked = []\n",
    "for x,y in zip(D2, qs_next):\n",
    "    stacked.append(jnp.concatenate([x, y], axis=0))\n",
    "\n",
    "A_stacked = jtu.tree_map(lambda x: jnp.broadcast_to(x, (2, x.shape[1], x.shape[2])), agents[-2].A)\n",
    "qo_stacked = vmap(expected_obs2)(stacked, A_stacked)\n"
   ]
  },
  {
   "cell_type": "code",
   "execution_count": 14,
   "metadata": {},
   "outputs": [],
   "source": [
    "obs = jnp.array(qo_stacked)\n",
    "\n",
    "# vmap over the batch dimension\n",
    "#img = map_discrete_2_rgb(obs[:, 0, :], locations_matrix, group_indices, sv_discrete_axis, V_per_patch, patch_indices, frames.shape[-3:])\n",
    "#img2 = map_discrete_2_rgb(obs[:, 1, :], locations_matrix, group_indices, sv_discrete_axis, V_per_patch, patch_indices, frames.shape[-3:])\n",
    "\n",
    "map_discrete_2_rgb_fn = partial(map_discrete_2_rgb, locations_matrix=locations_matrix, group_indices=group_indices, sv_discrete_axis=sv_discrete_axis, V_per_patch=V_per_patch, patch_indices=patch_indices, image_shape=frames.shape[-3:])\n",
    "imgs = vmap(map_discrete_2_rgb_fn, in_axes=1, out_axes=0)(obs)\n",
    "imgs = imgs.reshape((4, imgs.shape[-3], imgs.shape[-2], imgs.shape[-1]))"
   ]
  },
  {
   "cell_type": "code",
   "execution_count": 15,
   "metadata": {},
   "outputs": [
    {
     "data": {
      "text/plain": [
       "<matplotlib.image.AxesImage at 0x727845499450>"
      ]
     },
     "execution_count": 15,
     "metadata": {},
     "output_type": "execute_result"
    },
    {
     "data": {
      "image/png": "[encoded data removed]",
      "text/plain": [
       "<Figure size 640x480 with 1 Axes>"
      ]
     },
     "metadata": {},
     "output_type": "display_data"
    }
   ],
   "source": [
    "import numpy as onp\n",
    "\n",
    "def to_img(img):\n",
    "    im = jnp.transpose(img, (1, 2, 0))\n",
    "    im /= 255\n",
    "    im = jnp.clip(im, 0, 1)\n",
    "    im = (255*im).astype(onp.uint8)\n",
    "    return im\n",
    "\n",
    "plt.imshow(to_img(imgs[0]))\n"
   ]
  },
  {
   "cell_type": "code",
   "execution_count": 16,
   "metadata": {},
   "outputs": [
    {
     "name": "stderr",
     "output_type": "stream",
     "text": [
      "/usr/lib/python3.11/pty.py:89: RuntimeWarning: os.fork() was called. os.fork() is incompatible with multithreaded code, and JAX is multithreaded, so this will likely lead to a deadlock.\n",
      "  pid, fd = os.forkpty()\n"
     ]
    },
    {
     "name": "stdout",
     "output_type": "stream",
     "text": [
      "\n",
      "\u001b[1m[\u001b[0m\u001b[34;49mnotice\u001b[0m\u001b[1;39;49m]\u001b[0m\u001b[39;49m A new release of pip is available: \u001b[0m\u001b[31;49m23.2.1\u001b[0m\u001b[39;49m -> \u001b[0m\u001b[32;49m24.1.1\u001b[0m\n",
      "\u001b[1m[\u001b[0m\u001b[34;49mnotice\u001b[0m\u001b[1;39;49m]\u001b[0m\u001b[39;49m To update, run: \u001b[0m\u001b[32;49mpip install --upgrade pip\u001b[0m\n"
     ]
    }
   ],
   "source": [
    "!pip install -q mediapy"
   ]
  },
  {
   "cell_type": "code",
   "execution_count": 17,
   "metadata": {},
   "outputs": [
    {
     "data": {
      "text/html": [
       "<table class=\"show_videos\" style=\"border-spacing:0px;\"><tr><td style=\"padding:1px;\"><div style=\"display:flex; align-items:left;\">\n",
       "      <div style=\"display:flex; flex-direction:column; align-items:center;\">\n",
       "      <div>predictions</div><div><img width=\"320\" height=\"320\" style=\"image-rendering:pixelated; object-fit:cover;\" src=\"data:image/gif;base64,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\"/></div></div></div></td></tr></table>"
      ],
      "text/plain": [
       "<IPython.core.display.HTML object>"
      ]
     },
     "metadata": {},
     "output_type": "display_data"
    }
   ],
   "source": [
    "import mediapy\n",
    "\n",
    "ims = [to_img(imgs[i]) for i in range(imgs.shape[0])]\n",
    "\n",
    "with mediapy.set_show_save_dir(\".\"):\n",
    "    mediapy.show_videos({\"predictions\": ims}, width=320, height=320, fps=1, codec='gif')\n"
   ]
  },
  {
   "cell_type": "code",
   "execution_count": 18,
   "metadata": {},
   "outputs": [
    {
     "data": {
      "text/plain": [
       "(1, 32, 32, 1)"
      ]
     },
     "execution_count": 18,
     "metadata": {},
     "output_type": "execute_result"
    }
   ],
   "source": [
    "agents[-1].B[0].shape"
   ]
  },
  {
   "cell_type": "code",
   "execution_count": 64,
   "metadata": {},
   "outputs": [
    {
     "data": {
      "text/html": [
       "<table class=\"show_videos\" style=\"border-spacing:0px;\"><tr><td style=\"padding:1px;\"><div style=\"display:flex; align-items:left;\">\n",
       "      <div style=\"display:flex; flex-direction:column; align-items:center;\">\n",
       "      <div>generations</div><div><img width=\"320\" height=\"320\" style=\"image-rendering:pixelated; object-fit:cover;\" src=\"data:image/gif;base64,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\"/></div></div></div></td></tr></table>"
      ],
      "text/plain": [
       "<IPython.core.display.HTML object>"
      ]
     },
     "metadata": {},
     "output_type": "display_data"
    }
   ],
   "source": [
    "# generate n step predictions\n",
    "one_hot = jnp.zeros([1, 32])\n",
    "one_hot = one_hot.at[0, 16].set(1.0)\n",
    "D = [one_hot]\n",
    "E = jnp.array([[0]])\n",
    "observations, beliefs = predict(agents, D, E, num_steps=12)\n",
    "\n",
    "# convert to images\n",
    "obs = jnp.array(observations[0])\n",
    "map_discrete_2_rgb_fn = partial(map_discrete_2_rgb, locations_matrix=locations_matrix, group_indices=group_indices, sv_discrete_axis=sv_discrete_axis, V_per_patch=V_per_patch, patch_indices=patch_indices, image_shape=frames.shape[-3:])\n",
    "imgs = vmap(map_discrete_2_rgb_fn, in_axes=1, out_axes=0)(obs)\n",
    "imgs = imgs.reshape((imgs.shape[0]*imgs.shape[1], imgs.shape[-3], imgs.shape[-2], imgs.shape[-1]))\n",
    "\n",
    "ims = [to_img(imgs[i]) for i in range(imgs.shape[0])]\n",
    "with mediapy.set_show_save_dir(\".\"):\n",
    "    mediapy.show_videos({\"generations\": ims}, width=320, height=320, fps=4, codec='gif')"
   ]
  },
  {
   "cell_type": "code",
   "execution_count": null,
   "metadata": {},
   "outputs": [],
   "source": []
  }
 ],
 "metadata": {
  "kernelspec": {
   "display_name": ".venv",
   "language": "python",
   "name": "python3"
  },
  "language_info": {
   "codemirror_mode": {
    "name": "ipython",
    "version": 3
   },
   "file_extension": ".py",
   "mimetype": "text/x-python",
   "name": "python",
   "nbconvert_exporter": "python",
   "pygments_lexer": "ipython3",
   "version": "3.11.9"
  }
 },
 "nbformat": 4,
 "nbformat_minor": 2
}
