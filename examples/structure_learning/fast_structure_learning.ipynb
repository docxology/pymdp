{
 "cells": [
  {
   "cell_type": "code",
   "execution_count": null,
   "metadata": {},
   "outputs": [],
   "source": [
    "import jax.numpy as jnp\n",
    "import pymdp.jax\n",
    "from fast_structure_learning import *"
   ]
  },
  {
   "cell_type": "code",
   "execution_count": null,
   "metadata": {},
   "outputs": [],
   "source": [
    "path_to_file = \"dove.mp4\"\n",
    "\n",
    "frames = read_frames_from_mp4(path_to_file)\n",
    "(observations, locations_matrix, group_indices, sv_discrete_axis, V_per_patch), patch_indices = map_rgb_2_discrete(frames, tile_diameter=32, n_bins=16)\n",
    "observations = jnp.asarray(observations)\n",
    "agents, RG, LB = spm_mb_structure_learning(observations, locations_matrix, max_levels=8)"
   ]
  },
  {
   "cell_type": "code",
   "execution_count": null,
   "metadata": {},
   "outputs": [],
   "source": [
    "import matplotlib.pyplot as plt\n",
    "\n",
    "plt.imshow(frames[0])\n",
    "colors = ['r', 'b']\n",
    "for (i,locations_matrix) in enumerate(LB):\n",
    "    plt.scatter(locations_matrix[:,0], locations_matrix[:,1], c=colors[i])\n",
    "plt.show()"
   ]
  },
  {
   "cell_type": "code",
   "execution_count": null,
   "metadata": {},
   "outputs": [],
   "source": [
    "one_hot = jnp.zeros([1, 8])\n",
    "one_hot = one_hot.at[0, 5].set(1.0)\n",
    "D = one_hot"
   ]
  },
  {
   "cell_type": "code",
   "execution_count": null,
   "metadata": {},
   "outputs": [],
   "source": [
    "from pymdp.jax.control import compute_expected_obs\n",
    "from jax import vmap\n",
    "from functools import partial\n",
    "\n",
    "expected_obs = partial(compute_expected_obs, A_dependencies=agents[-1].A_dependencies)\n",
    "\n",
    "qo = vmap(expected_obs)([D,], agents[-1].A)"
   ]
  },
  {
   "cell_type": "code",
   "execution_count": null,
   "metadata": {},
   "outputs": [],
   "source": [
    "import jax.tree_util as jtu\n",
    "\n",
    "expected_obs2 = partial(compute_expected_obs, A_dependencies=agents[-2].A_dependencies)\n",
    "\n",
    "# split this in initial state \"D\" and path \"E\"\n",
    "D2 = qo[::2]\n",
    "# TODO also transition using this policy matrix?\n",
    "E2 = jtu.tree_map(lambda x: jnp.expand_dims(jnp.argmax(x), [0]), qo[1::2])\n",
    "\n",
    "qs_next, _ = agents[-2].infer_empirical_prior(E2, jtu.tree_map(lambda x : jnp.expand_dims(x, 0), D2))\n",
    "\n",
    "# stack D2 and qs_next and generate qo at once\n",
    "#qo2 = vmap(expected_obs2)(D2, agents[-2].A)\n",
    "#qo2_nxt = vmap(expected_obs2)(qs_next, agents[-2].A)\n",
    "\n",
    "stacked = []\n",
    "for x,y in zip(D2, qs_next):\n",
    "    stacked.append(jnp.concatenate([x, y], axis=0))\n",
    "\n",
    "A_stacked = jtu.tree_map(lambda x: jnp.broadcast_to(x, (2, x.shape[1], x.shape[2])), agents[-2].A)\n",
    "qo_stacked = vmap(expected_obs2)(stacked, A_stacked)\n"
   ]
  },
  {
   "cell_type": "code",
   "execution_count": null,
   "metadata": {},
   "outputs": [],
   "source": [
    "obs = jnp.array(qo_stacked)\n",
    "\n",
    "# vmap over the batch dimension\n",
    "#img = map_discrete_2_rgb(obs[:, 0, :], locations_matrix, group_indices, sv_discrete_axis, V_per_patch, patch_indices, frames.shape[-3:])\n",
    "#img2 = map_discrete_2_rgb(obs[:, 1, :], locations_matrix, group_indices, sv_discrete_axis, V_per_patch, patch_indices, frames.shape[-3:])\n",
    "\n",
    "map_discrete_2_rgb_fn = partial(map_discrete_2_rgb, locations_matrix=locations_matrix, group_indices=group_indices, sv_discrete_axis=sv_discrete_axis, V_per_patch=V_per_patch, patch_indices=patch_indices, image_shape=frames.shape[-3:])\n",
    "imgs = vmap(map_discrete_2_rgb_fn, in_axes=1, out_axes=0)(obs)\n",
    "imgs = imgs.reshape((4, imgs.shape[-3], imgs.shape[-2], imgs.shape[-1]))"
   ]
  },
  {
   "cell_type": "code",
   "execution_count": null,
   "metadata": {},
   "outputs": [],
   "source": [
    "import numpy as onp\n",
    "\n",
    "def to_img(img):\n",
    "    im = jnp.transpose(img, (1, 2, 0))\n",
    "    im /= 255\n",
    "    im = jnp.clip(im, 0, 1)\n",
    "    im = (255*im).astype(onp.uint8)\n",
    "    return im\n",
    "\n",
    "plt.imshow(to_img(imgs[0]))\n"
   ]
  },
  {
   "cell_type": "code",
   "execution_count": null,
   "metadata": {},
   "outputs": [],
   "source": [
    "!pip install -q mediapy"
   ]
  },
  {
   "cell_type": "code",
   "execution_count": null,
   "metadata": {},
   "outputs": [],
   "source": [
    "import mediapy\n",
    "\n",
    "ims = [to_img(imgs[i]) for i in range(imgs.shape[0])]\n",
    "\n",
    "with mediapy.set_show_save_dir(\".\"):\n",
    "    mediapy.show_videos({\"predictions\": ims}, fps=1, codec='gif')\n"
   ]
  }
 ],
 "metadata": {
  "kernelspec": {
   "display_name": ".venv",
   "language": "python",
   "name": "python3"
  },
  "language_info": {
   "codemirror_mode": {
    "name": "ipython",
    "version": 3
   },
   "file_extension": ".py",
   "mimetype": "text/x-python",
   "name": "python",
   "nbconvert_exporter": "python",
   "pygments_lexer": "ipython3",
   "version": "3.12.3"
  }
 },
 "nbformat": 4,
 "nbformat_minor": 2
}
