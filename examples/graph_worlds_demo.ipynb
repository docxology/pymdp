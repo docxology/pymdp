{
 "cells": [
  {
   "cell_type": "code",
   "execution_count": 1,
   "metadata": {},
   "outputs": [],
   "source": [
    "import networkx as nx\n",
    "from pymdp.jax.envs import GraphEnv\n",
    "\n",
    "def generate_connected_clusters(cluster_size=2, connections=2):\n",
    "    edges = []\n",
    "    connecting_node = 0\n",
    "    while connecting_node < connections * cluster_size:\n",
    "        edges += [(connecting_node, a) for a in range(connecting_node + 1, connecting_node + cluster_size + 1)]\n",
    "        connecting_node = len(edges)\n",
    "    graph = nx.Graph()\n",
    "    graph.add_edges_from(edges)\n",
    "    return graph, {\n",
    "        \"locations\": [\n",
    "            (f\"hallway {i}\" if len(list(graph.neighbors(loc))) > 1 else f\"room {i}\")\n",
    "            for i, loc in enumerate(graph.nodes)\n",
    "        ]\n",
    "    }"
   ]
  },
  {
   "cell_type": "code",
   "execution_count": 2,
   "metadata": {},
   "outputs": [
    {
     "data": {
      "image/png": "[encoded data removed]",
      "text/plain": [
       "<Figure size 640x480 with 1 Axes>"
      ]
     },
     "metadata": {},
     "output_type": "display_data"
    }
   ],
   "source": [
    "graph, _ = generate_connected_clusters(cluster_size=2, connections=2)\n",
    "nx.draw(graph, with_labels=True, font_weight=\"bold\")"
   ]
  },
  {
   "cell_type": "code",
   "execution_count": 3,
   "metadata": {},
   "outputs": [],
   "source": [
    "from jax import random as jr\n",
    "key = jr.PRNGKey(0)\n",
    "\n",
    "env = GraphEnv(graph, 3, 0)"
   ]
  },
  {
   "cell_type": "code",
   "execution_count": 4,
   "metadata": {},
   "outputs": [
    {
     "name": "stdout",
     "output_type": "stream",
     "text": [
      "(1, 2)\n",
      "(1, 2)\n",
      "([Array([0], dtype=int32), Array([0], dtype=int32)], GraphEnv(\n",
      "  params={\n",
      "    'A':\n",
      "    [f32[1,5,5], f32[1,2,5,6]],\n",
      "    'B':\n",
      "    [f32[1,5,5,5], f32[1,6,6,1]],\n",
      "    'D':\n",
      "    [f32[1,5], f32[1,6]]\n",
      "  },\n",
      "  states=[[i32[1], i32[1]], [i32[1], i32[1]]],\n",
      "  dependencies={'A': [[0], [0, 1]], 'B': [[0], [1]]}\n",
      "))\n"
     ]
    }
   ],
   "source": [
    "import jax.numpy as jnp\n",
    "\n",
    "batch_size = 1\n",
    "keys = jr.split(key, batch_size + 1)\n",
    "key = keys[-1]\n",
    "\n",
    "action = jnp.broadcast_to(jnp.array([4, 0]), (batch_size, 2))\n",
    "print(action.shape)\n",
    "\n",
    "_keys = keys[:batch_size]\n",
    "print(jnp.shape(_keys))\n",
    "obs = env.step(_keys, action)\n",
    "print(obs)"
   ]
  },
  {
   "cell_type": "code",
   "execution_count": 5,
   "metadata": {},
   "outputs": [],
   "source": [
    "from pymdp.jax.agent import Agent\n",
    "\n",
    "A = [a.copy() for a in env.params[\"A\"]]\n",
    "B = [b.copy() for b in env.params[\"B\"]]\n",
    "A_dependencies = env.dependencies[\"A\"]\n",
    "B_dependencies = env.dependencies[\"B\"]\n",
    "\n",
    "C = [jnp.zeros(a.shape[:2]) for a in A]\n",
    "C[1] = C[1].at[1].set(1.0)\n",
    "\n",
    "D = [jnp.ones(b.shape[:2]) for b in B]\n",
    "\n",
    "agent = Agent(A, B, C, D,None, None, None, A_dependencies=A_dependencies, B_dependencies=B_dependencies)"
   ]
  },
  {
   "cell_type": "code",
   "execution_count": 6,
   "metadata": {},
   "outputs": [
    {
     "name": "stdout",
     "output_type": "stream",
     "text": [
      "(1, 5)\n"
     ]
    }
   ],
   "source": [
    "print(C[0].shape)"
   ]
  },
  {
   "cell_type": "code",
   "execution_count": 7,
   "metadata": {},
   "outputs": [
    {
     "name": "stdout",
     "output_type": "stream",
     "text": [
      "[(1, 5, 5), (1, 2, 5, 6)]\n"
     ]
    }
   ],
   "source": [
    "print([a.shape for a in A])"
   ]
  },
  {
   "cell_type": "code",
   "execution_count": 14,
   "metadata": {},
   "outputs": [
    {
     "name": "stdout",
     "output_type": "stream",
     "text": [
      "[(1, 1, 5), (1, 1, 6)]\n"
     ]
    }
   ],
   "source": [
    "# add a time dimension\n",
    "qs = [jnp.broadcast_to(d, (1,) + d.shape) for d in D]\n",
    "\n",
    "print([s.shape for s in qs])\n",
    "q_pi, nefe = agent.infer_policies(qs)"
   ]
  },
  {
   "cell_type": "code",
   "execution_count": 9,
   "metadata": {},
   "outputs": [],
   "source": [
    "batch_keys = jr.split(key, batch_size + 1)\n",
    "_keys = keys[:batch_size]\n",
    "key = keys[-1]\n",
    "actions = agent.sample_action(q_pi, rng_key=_keys)"
   ]
  },
  {
   "cell_type": "code",
   "execution_count": 10,
   "metadata": {},
   "outputs": [
    {
     "name": "stdout",
     "output_type": "stream",
     "text": [
      "[[1 0]]\n"
     ]
    }
   ],
   "source": [
    "print(actions)"
   ]
  },
  {
   "cell_type": "code",
   "execution_count": 11,
   "metadata": {},
   "outputs": [],
   "source": [
    "batch_keys = jr.split(key, batch_size + 1)\n",
    "_keys = keys[:batch_size]\n",
    "key = keys[-1]\n",
    "obs, _ = env.step(_keys, action)"
   ]
  },
  {
   "cell_type": "code",
   "execution_count": 18,
   "metadata": {},
   "outputs": [
    {
     "name": "stdout",
     "output_type": "stream",
     "text": [
      "[Array([0], dtype=int32), Array([0], dtype=int32)]\n",
      "[(1, 1, 5), (1, 1, 6)]\n",
      "(1, 2)\n"
     ]
    },
    {
     "data": {
      "text/plain": [
       "[Array([[[0.16048184, 0.35807264, 0.16048184, 0.16048184, 0.16048184]]],      dtype=float32),\n",
       " Array([[[3.0379263e-03, 2.4523251e-06, 3.0379263e-03, 3.0379263e-03,\n",
       "          3.0379263e-03, 9.8784572e-01]]], dtype=float32)]"
      ]
     },
     "execution_count": 18,
     "metadata": {},
     "output_type": "execute_result"
    }
   ],
   "source": [
    "print(obs)\n",
    "# add time dim\n",
    "obs_b = [jnp.broadcast_to(o, (1,) + o.shape) for o in obs]\n",
    "\n",
    "print([s.shape for s in qs])\n",
    "print(actions.shape)\n",
    "prior, _ = agent.update_empirical_prior(actions, qs)\n",
    "\n",
    "agent.infer_states(obs_b, None, prior, None)"
   ]
  },
  {
   "cell_type": "code",
   "execution_count": null,
   "metadata": {},
   "outputs": [],
   "source": []
  }
 ],
 "metadata": {
  "kernelspec": {
   "display_name": ".venv",
   "language": "python",
   "name": "python3"
  },
  "language_info": {
   "codemirror_mode": {
    "name": "ipython",
    "version": 3
   },
   "file_extension": ".py",
   "mimetype": "text/x-python",
   "name": "python",
   "nbconvert_exporter": "python",
   "pygments_lexer": "ipython3",
   "version": "3.11.9"
  }
 },
 "nbformat": 4,
 "nbformat_minor": 2
}
